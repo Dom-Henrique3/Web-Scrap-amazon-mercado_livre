{
 "cells": [
  {
   "cell_type": "markdown",
   "id": "30d0e3e2",
   "metadata": {},
   "source": [
    "# Web Scraping Mercado Livre\n"
   ]
  },
  {
   "cell_type": "code",
   "execution_count": 18,
   "id": "a08d9f1a",
   "metadata": {},
   "outputs": [],
   "source": [
    "# Importando as bibliotecas\n",
    "\n",
    "from bs4 import BeautifulSoup\n",
    "import requests\n",
    "import pandas as pd\n",
    "from datetime import datetime\n",
    "import numpy as np"
   ]
  },
  {
   "cell_type": "code",
   "execution_count": 19,
   "id": "2c4873b2",
   "metadata": {},
   "outputs": [],
   "source": [
    "URL = 'https://www.mercadolivre.com.br/ofertas?container_id=MLB779362-1&page=1'\n",
    "response = requests.get(URL)\n",
    "page_contents = response.text"
   ]
  },
  {
   "cell_type": "code",
   "execution_count": 20,
   "id": "004a7dea",
   "metadata": {},
   "outputs": [],
   "source": [
    "#Creating a file and loading the page contents in it.\n",
    "with open('mercadolivre.html','w', encoding = \"utf-8\") as f:\n",
    "    f.write(page_contents)"
   ]
  },
  {
   "cell_type": "code",
   "execution_count": 21,
   "id": "e0e053d0",
   "metadata": {},
   "outputs": [],
   "source": [
    "from bs4 import BeautifulSoup\n",
    "doc = BeautifulSoup(page_contents,'html.parser')"
   ]
  },
  {
   "cell_type": "code",
   "execution_count": 22,
   "id": "ae3b7a90",
   "metadata": {},
   "outputs": [],
   "source": [
    "# Pegando todos os itens da primeira página\n",
    "def get_itens_title(doc):\n",
    "    title_tags = doc.find_all('p', class_='promotion-item__title')\n",
    "    titles = []\n",
    "    for tags in title_tags:\n",
    "        titles.append(tags.text)\n",
    "    return titles"
   ]
  },
  {
   "cell_type": "code",
   "execution_count": 23,
   "id": "6f04da65",
   "metadata": {},
   "outputs": [],
   "source": [
    "# Coletando os preços dos itens\n",
    "def get_price(doc):\n",
    "    price_tags = doc.find_all('div', class_ = 'andes-money-amount-combo__main-container')\n",
    "    price = []\n",
    "    for tags in price_tags:\n",
    "        price.append(tags.text.replace('Â',''))\n",
    "    return price"
   ]
  },
  {
   "cell_type": "code",
   "execution_count": 24,
   "id": "c001fe8e",
   "metadata": {},
   "outputs": [],
   "source": [
    "def get_doc(url):\n",
    "    response = requests.get(url)\n",
    "    doc = BeautifulSoup(response.text,'html.parser')\n",
    "    if response.status_code != 200:\n",
    "        raise Exception('Failed to load page {}'.format(response))\n",
    "    return doc"
   ]
  },
  {
   "cell_type": "code",
   "execution_count": 25,
   "id": "05c6fbbb",
   "metadata": {},
   "outputs": [],
   "source": [
    "def scrape_multiple_pages(n):\n",
    "    URL = 'https://www.mercadolivre.com.br/ofertas?container_id=MLB779362-1&page='\n",
    "    titles,prices= [],[]\n",
    "    \n",
    "    for page in range(1,n+1):\n",
    "        doc = get_doc(URL + str(page))\n",
    "        titles.extend(get_itens_title(doc))\n",
    "        prices.extend(get_price(doc))\n",
    "       \n",
    "       \n",
    "        \n",
    "        \n",
    "    itens = {'TITLE':titles,\n",
    "                'PRICE':prices\n",
    "            }\n",
    "    return pd.DataFrame(itens)"
   ]
  },
  {
   "cell_type": "code",
   "execution_count": 26,
   "id": "92f1f667",
   "metadata": {},
   "outputs": [],
   "source": [
    "df_mercado_livre = scrape_multiple_pages(10)\n",
    "df_mercado_livre[\"SCRAPY_DATETIME\"] = datetime.now().strftime('%Y-%m-%d %H:%M:%S')\n",
    "df_mercado_livre['PRICE'] = df_mercado_livre['PRICE'].str.extract(r'(\\d+[\\.,]?\\d*)')\n"
   ]
  },
  {
   "cell_type": "code",
   "execution_count": 27,
   "id": "ee7a8b59",
   "metadata": {},
   "outputs": [
    {
     "data": {
      "text/html": [
       "<div>\n",
       "<style scoped>\n",
       "    .dataframe tbody tr th:only-of-type {\n",
       "        vertical-align: middle;\n",
       "    }\n",
       "\n",
       "    .dataframe tbody tr th {\n",
       "        vertical-align: top;\n",
       "    }\n",
       "\n",
       "    .dataframe thead th {\n",
       "        text-align: right;\n",
       "    }\n",
       "</style>\n",
       "<table border=\"1\" class=\"dataframe\">\n",
       "  <thead>\n",
       "    <tr style=\"text-align: right;\">\n",
       "      <th></th>\n",
       "      <th>TITLE</th>\n",
       "      <th>PRICE</th>\n",
       "      <th>SCRAPY_DATETIME</th>\n",
       "    </tr>\n",
       "  </thead>\n",
       "  <tbody>\n",
       "    <tr>\n",
       "      <th>0</th>\n",
       "      <td>Smart TV Philco PTV32G70RCH LED HD 32\" 110V/220V</td>\n",
       "      <td>1076</td>\n",
       "      <td>2023-02-21 11:08:26</td>\n",
       "    </tr>\n",
       "    <tr>\n",
       "      <th>1</th>\n",
       "      <td>Samsung Galaxy A03 Core Dual SIM 32 GB bronze ...</td>\n",
       "      <td>679</td>\n",
       "      <td>2023-02-21 11:08:26</td>\n",
       "    </tr>\n",
       "    <tr>\n",
       "      <th>2</th>\n",
       "      <td>Kit Whey Protein 2kg + Bcaa + Creatina + Shaker</td>\n",
       "      <td>91</td>\n",
       "      <td>2023-02-21 11:08:26</td>\n",
       "    </tr>\n",
       "    <tr>\n",
       "      <th>3</th>\n",
       "      <td>Cabo Flexível 2,5mm Rolo 100m Metros Fio Elétr...</td>\n",
       "      <td>95</td>\n",
       "      <td>2023-02-21 11:08:26</td>\n",
       "    </tr>\n",
       "    <tr>\n",
       "      <th>4</th>\n",
       "      <td>Pistola Pintura Pulverizadora Tinta Paint Com ...</td>\n",
       "      <td>186</td>\n",
       "      <td>2023-02-21 11:08:26</td>\n",
       "    </tr>\n",
       "    <tr>\n",
       "      <th>...</th>\n",
       "      <td>...</td>\n",
       "      <td>...</td>\n",
       "      <td>...</td>\n",
       "    </tr>\n",
       "    <tr>\n",
       "      <th>475</th>\n",
       "      <td>Cortina Sala Quarto Corta Luz 100% Blackout 2,...</td>\n",
       "      <td>147</td>\n",
       "      <td>2023-02-21 11:08:26</td>\n",
       "    </tr>\n",
       "    <tr>\n",
       "      <th>476</th>\n",
       "      <td>Kit 10 Luminária Solar Parede Sensor Presença ...</td>\n",
       "      <td>204</td>\n",
       "      <td>2023-02-21 11:08:26</td>\n",
       "    </tr>\n",
       "    <tr>\n",
       "      <th>477</th>\n",
       "      <td>Suplemento em pó Essential Nutrition  Cacao Wh...</td>\n",
       "      <td>298</td>\n",
       "      <td>2023-02-21 11:08:26</td>\n",
       "    </tr>\n",
       "    <tr>\n",
       "      <th>478</th>\n",
       "      <td>Kit 10 Cuecas Boxer Microfibra Lisa Polo Wear ...</td>\n",
       "      <td>99</td>\n",
       "      <td>2023-02-21 11:08:26</td>\n",
       "    </tr>\n",
       "    <tr>\n",
       "      <th>479</th>\n",
       "      <td>Kit Filtro Bomba 1/3cv Para Piscina Até 30000l...</td>\n",
       "      <td>1633</td>\n",
       "      <td>2023-02-21 11:08:26</td>\n",
       "    </tr>\n",
       "  </tbody>\n",
       "</table>\n",
       "<p>480 rows × 3 columns</p>\n",
       "</div>"
      ],
      "text/plain": [
       "                                                 TITLE PRICE  \\\n",
       "0     Smart TV Philco PTV32G70RCH LED HD 32\" 110V/220V  1076   \n",
       "1    Samsung Galaxy A03 Core Dual SIM 32 GB bronze ...   679   \n",
       "2      Kit Whey Protein 2kg + Bcaa + Creatina + Shaker    91   \n",
       "3    Cabo Flexível 2,5mm Rolo 100m Metros Fio Elétr...    95   \n",
       "4    Pistola Pintura Pulverizadora Tinta Paint Com ...   186   \n",
       "..                                                 ...   ...   \n",
       "475  Cortina Sala Quarto Corta Luz 100% Blackout 2,...   147   \n",
       "476  Kit 10 Luminária Solar Parede Sensor Presença ...   204   \n",
       "477  Suplemento em pó Essential Nutrition  Cacao Wh...   298   \n",
       "478  Kit 10 Cuecas Boxer Microfibra Lisa Polo Wear ...    99   \n",
       "479  Kit Filtro Bomba 1/3cv Para Piscina Até 30000l...  1633   \n",
       "\n",
       "         SCRAPY_DATETIME  \n",
       "0    2023-02-21 11:08:26  \n",
       "1    2023-02-21 11:08:26  \n",
       "2    2023-02-21 11:08:26  \n",
       "3    2023-02-21 11:08:26  \n",
       "4    2023-02-21 11:08:26  \n",
       "..                   ...  \n",
       "475  2023-02-21 11:08:26  \n",
       "476  2023-02-21 11:08:26  \n",
       "477  2023-02-21 11:08:26  \n",
       "478  2023-02-21 11:08:26  \n",
       "479  2023-02-21 11:08:26  \n",
       "\n",
       "[480 rows x 3 columns]"
      ]
     },
     "execution_count": 27,
     "metadata": {},
     "output_type": "execute_result"
    }
   ],
   "source": [
    "df_mercado_livre"
   ]
  },
  {
   "cell_type": "markdown",
   "id": "0e6fbbc1",
   "metadata": {},
   "source": [
    "# Armazenando os dados no banco de dados"
   ]
  },
  {
   "cell_type": "code",
   "execution_count": 28,
   "id": "c1c58f41",
   "metadata": {},
   "outputs": [],
   "source": [
    "import sqlite3\n",
    "from sqlalchemy import create_engine"
   ]
  },
  {
   "cell_type": "code",
   "execution_count": 29,
   "id": "2ae766b0",
   "metadata": {},
   "outputs": [],
   "source": [
    "mercado_livre_schema = \"\"\"\n",
    "CREATE TABLE mercado_livre (\n",
    "TITLE              TEXT,\n",
    "PRICE              INTEGER,\n",
    "SCRAPY_DATETIME    TEXT\n",
    ")\n",
    "\n",
    "\"\"\""
   ]
  },
  {
   "cell_type": "code",
   "execution_count": 30,
   "id": "14b0f549",
   "metadata": {},
   "outputs": [],
   "source": [
    "conn = create_engine( 'sqlite:///mercado_livre.sqlite', echo=False )"
   ]
  },
  {
   "cell_type": "code",
   "execution_count": 31,
   "id": "d7e97ff5",
   "metadata": {},
   "outputs": [],
   "source": [
    "# connect to dataset\n",
    "conn = sqlite3.connect('mercado_livre.sqlite')\n",
    "\n",
    "#cursor = conn.execute(mercado_livre_schema)\n",
    "#conn.commit()\n"
   ]
  },
  {
   "cell_type": "code",
   "execution_count": 32,
   "id": "7eed0cbd",
   "metadata": {},
   "outputs": [
    {
     "data": {
      "text/plain": [
       "480"
      ]
     },
     "execution_count": 32,
     "metadata": {},
     "output_type": "execute_result"
    }
   ],
   "source": [
    "# insert data to table\n",
    "df_mercado_livre.to_sql('mercado_livre', con=conn, if_exists='append', index=False )"
   ]
  },
  {
   "cell_type": "code",
   "execution_count": 33,
   "id": "f591886c",
   "metadata": {},
   "outputs": [
    {
     "data": {
      "text/html": [
       "<div>\n",
       "<style scoped>\n",
       "    .dataframe tbody tr th:only-of-type {\n",
       "        vertical-align: middle;\n",
       "    }\n",
       "\n",
       "    .dataframe tbody tr th {\n",
       "        vertical-align: top;\n",
       "    }\n",
       "\n",
       "    .dataframe thead th {\n",
       "        text-align: right;\n",
       "    }\n",
       "</style>\n",
       "<table border=\"1\" class=\"dataframe\">\n",
       "  <thead>\n",
       "    <tr style=\"text-align: right;\">\n",
       "      <th></th>\n",
       "      <th>TITLE</th>\n",
       "      <th>PRICE</th>\n",
       "      <th>SCRAPY_DATETIME</th>\n",
       "    </tr>\n",
       "  </thead>\n",
       "  <tbody>\n",
       "    <tr>\n",
       "      <th>0</th>\n",
       "      <td>Smart TV Philco PTV32G70RCH LED HD 32\" 110V/220V</td>\n",
       "      <td>1076</td>\n",
       "      <td>2023-02-21 11:07:27</td>\n",
       "    </tr>\n",
       "    <tr>\n",
       "      <th>1</th>\n",
       "      <td>Samsung Galaxy A03 Core Dual SIM 32 GB bronze ...</td>\n",
       "      <td>679</td>\n",
       "      <td>2023-02-21 11:07:27</td>\n",
       "    </tr>\n",
       "    <tr>\n",
       "      <th>2</th>\n",
       "      <td>Kit Whey Protein 2kg + Bcaa + Creatina + Shaker</td>\n",
       "      <td>91</td>\n",
       "      <td>2023-02-21 11:07:27</td>\n",
       "    </tr>\n",
       "    <tr>\n",
       "      <th>3</th>\n",
       "      <td>Cabo Flexível 2,5mm Rolo 100m Metros Fio Elétr...</td>\n",
       "      <td>95</td>\n",
       "      <td>2023-02-21 11:07:27</td>\n",
       "    </tr>\n",
       "    <tr>\n",
       "      <th>4</th>\n",
       "      <td>Pistola Pintura Pulverizadora Tinta Paint Com ...</td>\n",
       "      <td>186</td>\n",
       "      <td>2023-02-21 11:07:27</td>\n",
       "    </tr>\n",
       "    <tr>\n",
       "      <th>...</th>\n",
       "      <td>...</td>\n",
       "      <td>...</td>\n",
       "      <td>...</td>\n",
       "    </tr>\n",
       "    <tr>\n",
       "      <th>955</th>\n",
       "      <td>Cortina Sala Quarto Corta Luz 100% Blackout 2,...</td>\n",
       "      <td>147</td>\n",
       "      <td>2023-02-21 11:08:26</td>\n",
       "    </tr>\n",
       "    <tr>\n",
       "      <th>956</th>\n",
       "      <td>Kit 10 Luminária Solar Parede Sensor Presença ...</td>\n",
       "      <td>204</td>\n",
       "      <td>2023-02-21 11:08:26</td>\n",
       "    </tr>\n",
       "    <tr>\n",
       "      <th>957</th>\n",
       "      <td>Suplemento em pó Essential Nutrition  Cacao Wh...</td>\n",
       "      <td>298</td>\n",
       "      <td>2023-02-21 11:08:26</td>\n",
       "    </tr>\n",
       "    <tr>\n",
       "      <th>958</th>\n",
       "      <td>Kit 10 Cuecas Boxer Microfibra Lisa Polo Wear ...</td>\n",
       "      <td>99</td>\n",
       "      <td>2023-02-21 11:08:26</td>\n",
       "    </tr>\n",
       "    <tr>\n",
       "      <th>959</th>\n",
       "      <td>Kit Filtro Bomba 1/3cv Para Piscina Até 30000l...</td>\n",
       "      <td>1633</td>\n",
       "      <td>2023-02-21 11:08:26</td>\n",
       "    </tr>\n",
       "  </tbody>\n",
       "</table>\n",
       "<p>960 rows × 3 columns</p>\n",
       "</div>"
      ],
      "text/plain": [
       "                                                 TITLE PRICE  \\\n",
       "0     Smart TV Philco PTV32G70RCH LED HD 32\" 110V/220V  1076   \n",
       "1    Samsung Galaxy A03 Core Dual SIM 32 GB bronze ...   679   \n",
       "2      Kit Whey Protein 2kg + Bcaa + Creatina + Shaker    91   \n",
       "3    Cabo Flexível 2,5mm Rolo 100m Metros Fio Elétr...    95   \n",
       "4    Pistola Pintura Pulverizadora Tinta Paint Com ...   186   \n",
       "..                                                 ...   ...   \n",
       "955  Cortina Sala Quarto Corta Luz 100% Blackout 2,...   147   \n",
       "956  Kit 10 Luminária Solar Parede Sensor Presença ...   204   \n",
       "957  Suplemento em pó Essential Nutrition  Cacao Wh...   298   \n",
       "958  Kit 10 Cuecas Boxer Microfibra Lisa Polo Wear ...    99   \n",
       "959  Kit Filtro Bomba 1/3cv Para Piscina Até 30000l...  1633   \n",
       "\n",
       "         SCRAPY_DATETIME  \n",
       "0    2023-02-21 11:07:27  \n",
       "1    2023-02-21 11:07:27  \n",
       "2    2023-02-21 11:07:27  \n",
       "3    2023-02-21 11:07:27  \n",
       "4    2023-02-21 11:07:27  \n",
       "..                   ...  \n",
       "955  2023-02-21 11:08:26  \n",
       "956  2023-02-21 11:08:26  \n",
       "957  2023-02-21 11:08:26  \n",
       "958  2023-02-21 11:08:26  \n",
       "959  2023-02-21 11:08:26  \n",
       "\n",
       "[960 rows x 3 columns]"
      ]
     },
     "execution_count": 33,
     "metadata": {},
     "output_type": "execute_result"
    }
   ],
   "source": [
    "query = \"\"\"\n",
    "SELECT * FROM mercado_livre\n",
    "\"\"\"\n",
    "df_mercado_livre = pd.read_sql_query( query, conn)\n",
    "df_mercado_livre"
   ]
  },
  {
   "cell_type": "code",
   "execution_count": 34,
   "id": "88280589",
   "metadata": {},
   "outputs": [
    {
     "data": {
      "text/html": [
       "<div>\n",
       "<style scoped>\n",
       "    .dataframe tbody tr th:only-of-type {\n",
       "        vertical-align: middle;\n",
       "    }\n",
       "\n",
       "    .dataframe tbody tr th {\n",
       "        vertical-align: top;\n",
       "    }\n",
       "\n",
       "    .dataframe thead th {\n",
       "        text-align: right;\n",
       "    }\n",
       "</style>\n",
       "<table border=\"1\" class=\"dataframe\">\n",
       "  <thead>\n",
       "    <tr style=\"text-align: right;\">\n",
       "      <th></th>\n",
       "      <th>TITLE</th>\n",
       "      <th>PRICE</th>\n",
       "      <th>SCRAPY_DATETIME</th>\n",
       "    </tr>\n",
       "  </thead>\n",
       "  <tbody>\n",
       "    <tr>\n",
       "      <th>2</th>\n",
       "      <td>Kit Whey Protein 2kg + Bcaa + Creatina + Shaker</td>\n",
       "      <td>91</td>\n",
       "      <td>2023-02-21 11:07:27</td>\n",
       "    </tr>\n",
       "    <tr>\n",
       "      <th>482</th>\n",
       "      <td>Kit Whey Protein 2kg + Bcaa + Creatina + Shaker</td>\n",
       "      <td>91</td>\n",
       "      <td>2023-02-21 11:08:26</td>\n",
       "    </tr>\n",
       "  </tbody>\n",
       "</table>\n",
       "</div>"
      ],
      "text/plain": [
       "                                               TITLE PRICE  \\\n",
       "2    Kit Whey Protein 2kg + Bcaa + Creatina + Shaker    91   \n",
       "482  Kit Whey Protein 2kg + Bcaa + Creatina + Shaker    91   \n",
       "\n",
       "         SCRAPY_DATETIME  \n",
       "2    2023-02-21 11:07:27  \n",
       "482  2023-02-21 11:08:26  "
      ]
     },
     "execution_count": 34,
     "metadata": {},
     "output_type": "execute_result"
    }
   ],
   "source": [
    "df_mercado_livre[df_mercado_livre[\"TITLE\"]==\"Kit Whey Protein 2kg + Bcaa + Creatina + Shaker\"]"
   ]
  },
  {
   "cell_type": "code",
   "execution_count": null,
   "id": "e8898946",
   "metadata": {},
   "outputs": [],
   "source": []
  },
  {
   "cell_type": "code",
   "execution_count": null,
   "id": "717ab735",
   "metadata": {},
   "outputs": [],
   "source": []
  },
  {
   "cell_type": "code",
   "execution_count": null,
   "id": "7319d47b",
   "metadata": {},
   "outputs": [],
   "source": []
  },
  {
   "cell_type": "code",
   "execution_count": null,
   "id": "6736af55",
   "metadata": {},
   "outputs": [],
   "source": []
  },
  {
   "cell_type": "code",
   "execution_count": null,
   "id": "3a429a3d",
   "metadata": {},
   "outputs": [],
   "source": []
  },
  {
   "cell_type": "code",
   "execution_count": null,
   "id": "4010ead2",
   "metadata": {},
   "outputs": [],
   "source": []
  },
  {
   "cell_type": "code",
   "execution_count": null,
   "id": "30f1df06",
   "metadata": {},
   "outputs": [],
   "source": []
  }
 ],
 "metadata": {
  "kernelspec": {
   "display_name": "Python 3 (ipykernel)",
   "language": "python",
   "name": "python3"
  },
  "language_info": {
   "codemirror_mode": {
    "name": "ipython",
    "version": 3
   },
   "file_extension": ".py",
   "mimetype": "text/x-python",
   "name": "python",
   "nbconvert_exporter": "python",
   "pygments_lexer": "ipython3",
   "version": "3.9.13"
  }
 },
 "nbformat": 4,
 "nbformat_minor": 5
}
